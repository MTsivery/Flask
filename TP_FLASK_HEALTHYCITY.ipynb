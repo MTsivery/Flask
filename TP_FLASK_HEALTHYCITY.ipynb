{
 "cells": [
  {
   "cell_type": "markdown",
   "metadata": {},
   "source": [
    "#                                              TP FLASK DASHBOARD \n",
    "\n",
    "##                                              TOP 44 HEALTHY CITIES IN THE WORLD \n",
    "\n",
    "###                                                                    Classe: IAS-M2RD-DA1\n",
    "\n",
    "### Membre du Groupe:\n",
    "\n",
    "#### EL AMIR Mohamed\n",
    "#### MARIPO Tsivery\n",
    "\n",
    "Sommaire: Nous avons avons choisi le dataset des 44 meilleurs villes du monde \"HealthyCity.csv\" pour essayer de voir une corrélation lineaire entre le variable a expliquer \"Life expectancy(years) (Country)\" avec les autres variables explicatives : \n",
    "-Sunshine hours(City)\n",
    "-Obesity levels(Country)\n",
    "-Pollution(Index score) (City)\n",
    "-Annual avg. hours worked\n",
    "-Happiness levels(Country)\n",
    "-Outdoor activities(City)\n",
    "-Number of take out places(City)\n",
    "-Cost of a monthly gym membership(City)\n",
    "-Cost of a bottle of water(City)"
   ]
  },
  {
   "cell_type": "code",
   "execution_count": null,
   "metadata": {},
   "outputs": [],
   "source": [
    "#Decommenter et installer les packages suivantes au cas ou votre environnement ne l'ont pas encore:\n",
    "#pip install pandas"
   ]
  },
  {
   "cell_type": "code",
   "execution_count": null,
   "metadata": {},
   "outputs": [],
   "source": [
    "#pip install dash"
   ]
  },
  {
   "cell_type": "code",
   "execution_count": null,
   "metadata": {},
   "outputs": [],
   "source": [
    "#Importation des librairies necessaires\n",
    "import dash\n",
    "from dash import dcc\n",
    "from dash import html\n",
    "from dash.dependencies import Input, Output\n",
    "import pandas as pd\n",
    "import plotly.graph_objs as go\n",
    "import ssl\n",
    "ssl._create_default_https_context = ssl._create_unverified_context"
   ]
  },
  {
   "cell_type": "code",
   "execution_count": null,
   "metadata": {},
   "outputs": [],
   "source": [
    "external_stylesheets = ['https://codepen.io/chriddyp/pen/bWLwgP.css']\n",
    "\n",
    "app = dash.Dash(__name__, external_stylesheets=external_stylesheets)\n",
    "\n",
    "df = pd.read_csv('./HealthyCities.csv')\n",
    "\n",
    "available_indicators = df['Criteria'].unique()\n",
    "\n",
    "app.layout = html.Div([\n",
    "        html.Div([\n",
    "           \n",
    "            html.Div([\n",
    "                       dcc.Dropdown(\n",
    "                            id='xaxis-column',\n",
    "                            options=[{'label': i, 'value': i} for i in available_indicators],\n",
    "                            value='Obesity levels(Country)'\n",
    "                             ),\n",
    "                      dcc.RadioItems(\n",
    "                            id='xaxis-type',\n",
    "                            options=[{'label': i, 'value': i} for i in ['Linear', 'Log']],\n",
    "                            value='Linear',\n",
    "                            labelStyle={'display': 'inline-block'}\n",
    "                               )\n",
    "                    ],\n",
    "            style={'width': '48%', 'display': 'inline-block'}),\n",
    "                          html.Div([\n",
    "                          dcc.Dropdown(\n",
    "                             id='yaxis-column',\n",
    "                             options=[{'label': i, 'value': i} for i in available_indicators],\n",
    "                             value='Life expectancy(years) (Country)'\n",
    "                                      ),\n",
    "                          dcc.RadioItems(\n",
    "                            id='yaxis-type',\n",
    "                            options=[{'label': i, 'value': i} for i in ['Linear', 'Log']],\n",
    "                            value='Linear',\n",
    "                                  labelStyle={'display': 'inline-block'}\n",
    "                                        )\n",
    "                        ],style={'width': '48%', 'float': 'right', 'display': 'inline-block'})\n",
    "                 ]),\n",
    "\n",
    "                    dcc.Graph(id='indicator-graphic')\n",
    "                     ])\n",
    "@app.callback(\n",
    "     Output('indicator-graphic', 'figure'),\n",
    "     [Input('xaxis-column', 'value'),\n",
    "      Input('yaxis-column', 'value'),\n",
    "      Input('xaxis-type', 'value'),\n",
    "      Input('yaxis-type', 'value')\n",
    "     ])\n",
    "def update_graph(xaxis_column_name, yaxis_column_name,\n",
    "           xaxis_type, yaxis_type):\n",
    "        \n",
    "     return {\n",
    "            'data': [go.Scatter(\n",
    "                x=df[df['Criteria'] == xaxis_column_name]['Total'],\n",
    "                y=df[df['Criteria'] == yaxis_column_name]['Total'],\n",
    "                text=df[df['Criteria'] == yaxis_column_name]['City'],\n",
    "                mode='markers',\n",
    "                   marker={\n",
    "                           'size': 15,\n",
    "                           'opacity': 0.5,\n",
    "                           'line': {'width': 0.5, 'color': 'white'}\n",
    "                           }\n",
    "                )],\n",
    "            'layout': go.Layout(\n",
    "                     xaxis={\n",
    "                     'title': xaxis_column_name,\n",
    "                     'type': 'linear' if xaxis_type == 'Linear' else 'log'\n",
    "                           },\n",
    "                     yaxis={\n",
    "                     'title': yaxis_column_name,\n",
    "                     'type': 'linear' if yaxis_type == 'Linear' else 'log'\n",
    "                           },\n",
    "                     margin={'l': 40, 'b': 40, 't': 10, 'r': 0},\n",
    "                     hovermode='closest'\n",
    "                    )\n",
    "                }\n",
    "if __name__ == '__main__':\n",
    "     app.run_server(port = 8158)\n",
    "#Apres execution (Run), Cliquer sur le lien ci-dessous pour voir le Dashboard\n",
    "#http://127.0.0.1:8158/"
   ]
  },
  {
   "cell_type": "markdown",
   "metadata": {},
   "source": [
    "#Interpretation des graphes:\n",
    "\n",
    "Nous avons constaté une correlation lineaire entre les variables ci-dessous:\n",
    "\n",
    "- \"Life expectancy(years) (Country)\" et \"Pollution(Index score) (City)\": Plus l'index de pollution est grande, moins l'age diminue\n",
    "- \"Life expectancy(years) (Country)\" et \"Happiness levels(Country)\": Plus l'index de Hapiness augmente, plus l'age augmente\n"
   ]
  }
 ],
 "metadata": {
  "kernelspec": {
   "display_name": "Python 3 (ipykernel)",
   "language": "python",
   "name": "python3"
  },
  "language_info": {
   "codemirror_mode": {
    "name": "ipython",
    "version": 3
   },
   "file_extension": ".py",
   "mimetype": "text/x-python",
   "name": "python",
   "nbconvert_exporter": "python",
   "pygments_lexer": "ipython3",
   "version": "3.10.2"
  }
 },
 "nbformat": 4,
 "nbformat_minor": 2
}
